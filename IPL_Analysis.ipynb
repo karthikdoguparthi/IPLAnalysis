{
  "nbformat": 4,
  "nbformat_minor": 0,
  "metadata": {
    "colab": {
      "private_outputs": true,
      "provenance": [],
      "collapsed_sections": [
        "vncDsAP0Gaoa",
        "FJNUwmbgGyua",
        "w6K7xa23Elo4",
        "yQaldy8SH6Dl",
        "PH-0ReGfmX4f",
        "mDgbUHAGgjLW",
        "O_i_v8NEhb9l",
        "HhfV-JJviCcP",
        "Y3lxredqlCYt",
        "3RnN4peoiCZX",
        "x71ZqKXriCWQ",
        "7hBIi_osiCS2",
        "JlHwYmJAmNHm",
        "35m5QtbWiB9F",
        "PoPl-ycgm1ru",
        "H0kj-8xxnORC",
        "nA9Y7ga8ng1Z",
        "PBTbrJXOngz2",
        "u3PMJOP6ngxN",
        "dauF4eBmngu3",
        "bKJF3rekwFvQ",
        "MSa1f5Uengrz",
        "GF8Ens_Soomf",
        "0wOQAZs5pc--",
        "K5QZ13OEpz2H",
        "lQ7QKXXCp7Bj",
        "448CDAPjqfQr",
        "KSlN3yHqYklG",
        "t6dVpIINYklI",
        "ijmpgYnKYklI",
        "-JiQyfWJYklI",
        "EM7whBJCYoAo",
        "fge-S5ZAYoAp",
        "85gYPyotYoAp",
        "RoGjAbkUYoAp",
        "4Of9eVA-YrdM",
        "iky9q4vBYrdO",
        "F6T5p64dYrdO",
        "y-Ehk30pYrdP",
        "bamQiAODYuh1",
        "QHF8YVU7Yuh3",
        "GwzvFGzlYuh3",
        "qYpmQ266Yuh3",
        "OH-pJp9IphqM",
        "bbFf2-_FphqN",
        "_ouA3fa0phqN",
        "Seke61FWphqN",
        "PIIx-8_IphqN",
        "t27r6nlMphqO",
        "r2jJGEOYphqO",
        "b0JNsNcRphqO",
        "BZR9WyysphqO",
        "jj7wYXLtphqO",
        "eZrbJ2SmphqO",
        "rFu4xreNphqO",
        "YJ55k-q6phqO",
        "gCFgpxoyphqP",
        "OVtJsKN_phqQ",
        "lssrdh5qphqQ",
        "U2RJ9gkRphqQ",
        "1M8mcRywphqQ",
        "tgIPom80phqQ",
        "JMzcOPDDphqR",
        "x-EpHcCOp1ci",
        "X_VqEhTip1ck",
        "8zGJKyg5p1ck",
        "PVzmfK_Ep1ck",
        "n3dbpmDWp1ck",
        "ylSl6qgtp1ck",
        "ZWILFDl5p1ck",
        "M7G43BXep1ck",
        "Ag9LCva-p1cl",
        "E6MkPsBcp1cl",
        "2cELzS2fp1cl",
        "3MPXvC8up1cl",
        "NC_X3p0fY2L0",
        "UV0SzAkaZNRQ",
        "YPEH6qLeZNRQ",
        "q29F0dvdveiT",
        "EXh0U9oCveiU",
        "22aHeOlLveiV",
        "JcMwzZxoAimU",
        "8G2x9gOozGDZ",
        "gCX9965dhzqZ",
        "gIfDvo9L0UH2"
      ],
      "include_colab_link": true
    },
    "kernelspec": {
      "name": "python3",
      "display_name": "Python 3"
    },
    "language_info": {
      "name": "python"
    }
  },
  "cells": [
    {
      "cell_type": "markdown",
      "metadata": {
        "id": "view-in-github",
        "colab_type": "text"
      },
      "source": [
        "<a href=\"https://colab.research.google.com/github/karthikdoguparthi/IPLAnalysis/blob/main/IPL_Analysis.ipynb\" target=\"_parent\"><img src=\"https://colab.research.google.com/assets/colab-badge.svg\" alt=\"Open In Colab\"/></a>"
      ]
    },
    {
      "cell_type": "markdown",
      "source": [
        "# **Project Name**    - IPL Analysis\n",
        "\n"
      ],
      "metadata": {
        "id": "vncDsAP0Gaoa"
      }
    },
    {
      "cell_type": "markdown",
      "source": [
        "##### **Project Type**    - EDA\n",
        "##### **Contribution**    - Individual\n",
        "##### **Team Member 1 -** Karthik Doguparthi"
      ],
      "metadata": {
        "id": "beRrZCGUAJYm"
      }
    },
    {
      "cell_type": "markdown",
      "source": [
        "# **Project Summary -**"
      ],
      "metadata": {
        "id": "FJNUwmbgGyua"
      }
    },
    {
      "cell_type": "markdown",
      "source": [
        "In this project, I set out to analyze historical data from the Indian Premier League (IPL) to uncover meaningful insights about teams, players, and match outcomes. The IPL is one of the most followed sporting events in the world, and I wanted to use data analytics to better understand its patterns, trends, and key performers. To achieve this, I worked with ball by ball data as well as match level datasets, applying Python libraries such as Pandas for data processing and Matplotlib and Seaborn for visualizations.\n",
        "\n",
        "My first step was to clean and merge the datasets so I could create a single source of truth for analysis. Once that was ready, I began exploring different aspects of the game. I looked at toss outcomes and their influence on match results, identifying whether winning the toss had a significant advantage. I also analyzed matches where teams won the toss but ended up losing, which highlighted that strategy and execution matter more than the coin flip.\n",
        "\n",
        "On the batting side, I explored the players with the highest overall runs, the best single match performances, and the consistency of top scorers across seasons. This gave me insights into how some players dominate not only in a single season but across multiple years. Similarly, on the bowling front, I identified bowlers with the most wickets overall, the best bowling figures in a single match, and those who consistently bowled maiden overs. These statistics showcased the bowlers who had the greatest impact in turning games around.\n",
        "\n",
        "Fielding is often overlooked in T20 cricket, so I also studied dismissals by catches and identified the players most frequently dismissed in this manner as well as the fielders contributing the most. Additionally, I examined extras conceded by bowlers, which revealed how discipline can make a difference in close matches.\n",
        "\n",
        "Beyond players, I analyzed umpiring trends, including the number of matches officiated by top umpires across seasons. I also studied the frequency of Duckworth Lewis (DL) affected matches and normal results across seasons to see how external factors like weather shaped the tournament.\n",
        "\n",
        "By combining all these perspectives, I was able to build a holistic view of IPL history. This project not only strengthened my technical skills in data analytics and visualization but also gave me the satisfaction of connecting statistical findings with real cricketing insights. It showed me how data can tell stories that go beyond numbers and bring new appreciation for the sport I enjoy."
      ],
      "metadata": {
        "id": "F6v_1wHtG2nS"
      }
    },
    {
      "cell_type": "markdown",
      "source": [
        "# **GitHub Link -**"
      ],
      "metadata": {
        "id": "w6K7xa23Elo4"
      }
    },
    {
      "cell_type": "markdown",
      "source": [
        "https://github.com/karthikdoguparthi/IPLAnalysis"
      ],
      "metadata": {
        "id": "h1o69JH3Eqqn"
      }
    },
    {
      "cell_type": "markdown",
      "source": [
        "# **Problem Statement**\n"
      ],
      "metadata": {
        "id": "yQaldy8SH6Dl"
      }
    },
    {
      "cell_type": "markdown",
      "source": [
        "The objective of this project is to analyze historical Indian Premier League (IPL) data using data visualization and statistical techniques. The project focuses on uncovering insights about players, teams, umpires, and match outcomes through ball-by-ball and match-level datasets. The aim is to identify performance trends, winning patterns, and key contributors, thereby providing a data-driven perspective on the IPL."
      ],
      "metadata": {
        "id": "DpeJGUA3kjGy"
      }
    },
    {
      "cell_type": "markdown",
      "source": [
        "#### **Define Your Business Objective?**"
      ],
      "metadata": {
        "id": "PH-0ReGfmX4f"
      }
    },
    {
      "cell_type": "markdown",
      "source": [
        "1. Franchises & Coaches: Identify top performing players, evaluate consistency, and refine strategies (e.g., batting order, bowler usage, toss impact).\n",
        "\n",
        "2. Sponsors & Broadcasters: Highlight star performers and engaging storylines to enhance viewer engagement.\n",
        "\n",
        "3. Analysts & Streamers: Gain a deeper understanding of IPL trends, such as highest run scorers, wicket-takers, or impactful matches.\n",
        "\n",
        "4. Cricket Boards (BCCI/IPL): Use data to optimize tournament formats and scheduling decisions."
      ],
      "metadata": {
        "id": "PhDvGCAqmjP1"
      }
    },
    {
      "cell_type": "markdown",
      "source": [
        "# **General Guidelines** : -  "
      ],
      "metadata": {
        "id": "mDgbUHAGgjLW"
      }
    },
    {
      "cell_type": "markdown",
      "source": [
        "1.   Well-structured, formatted, and commented code is required.\n",
        "2.   Exception Handling, Production Grade Code & Deployment Ready Code will be a plus. Those students will be awarded some additional credits.\n",
        "     \n",
        "     The additional credits will have advantages over other students during Star Student selection.\n",
        "       \n",
        "             [ Note: - Deployment Ready Code is defined as, the whole .ipynb notebook should be executable in one go\n",
        "                       without a single error logged. ]\n",
        "\n",
        "3.   Each and every logic should have proper comments.\n",
        "4. You may add as many number of charts you want. Make Sure for each and every chart the following format should be answered.\n",
        "        \n",
        "\n",
        "```\n",
        "# Chart visualization code\n",
        "```\n",
        "            \n",
        "\n",
        "*   Why did you pick the specific chart?\n",
        "*   What is/are the insight(s) found from the chart?\n",
        "* Will the gained insights help creating a positive business impact?\n",
        "Are there any insights that lead to negative growth? Justify with specific reason.\n",
        "\n",
        "5. You have to create at least 20 logical & meaningful charts having important insights.\n",
        "\n",
        "\n",
        "[ Hints : - Do the Vizualization in  a structured way while following \"UBM\" Rule.\n",
        "\n",
        "U - Univariate Analysis,\n",
        "\n",
        "B - Bivariate Analysis (Numerical - Categorical, Numerical - Numerical, Categorical - Categorical)\n",
        "\n",
        "M - Multivariate Analysis\n",
        " ]\n",
        "\n",
        "\n",
        "\n"
      ],
      "metadata": {
        "id": "ZrxVaUj-hHfC"
      }
    },
    {
      "cell_type": "markdown",
      "source": [
        "# ***Let's Begin !***"
      ],
      "metadata": {
        "id": "O_i_v8NEhb9l"
      }
    },
    {
      "cell_type": "markdown",
      "source": [
        "## ***1. Know Your Data***"
      ],
      "metadata": {
        "id": "HhfV-JJviCcP"
      }
    },
    {
      "cell_type": "markdown",
      "source": [
        "### Import Libraries"
      ],
      "metadata": {
        "id": "Y3lxredqlCYt"
      }
    },
    {
      "cell_type": "code",
      "source": [
        "# Import Libraries\n",
        "import pandas as pd\n",
        "import numpy as np\n",
        "import matplotlib.pyplot as plt\n",
        "import seaborn as sns\n",
        "import warnings\n",
        "warnings.filterwarnings('ignore')"
      ],
      "metadata": {
        "id": "M8Vqi-pPk-HR"
      },
      "execution_count": null,
      "outputs": []
    },
    {
      "cell_type": "markdown",
      "source": [
        "### Dataset Loading"
      ],
      "metadata": {
        "id": "3RnN4peoiCZX"
      }
    },
    {
      "cell_type": "code",
      "source": [
        "# Load Dataset\n",
        "matches= pd.read_csv('/content/matches.csv')\n",
        "deliveries= pd.read_csv('/content/deliveries.csv')"
      ],
      "metadata": {
        "id": "4CkvbW_SlZ_R"
      },
      "execution_count": null,
      "outputs": []
    },
    {
      "cell_type": "code",
      "source": [
        "#Renaming column name from id to match_id\n",
        "matches.rename(columns={'id':'match_id'},inplace=True)"
      ],
      "metadata": {
        "id": "QfQPGdiVt2tg"
      },
      "execution_count": null,
      "outputs": []
    },
    {
      "cell_type": "code",
      "source": [
        "# Combining Datasets\n",
        "merged=pd.merge(matches,deliveries,on='match_id')"
      ],
      "metadata": {
        "id": "XEYh8zN4uRWK"
      },
      "execution_count": null,
      "outputs": []
    },
    {
      "cell_type": "markdown",
      "source": [
        "### Dataset First View"
      ],
      "metadata": {
        "id": "x71ZqKXriCWQ"
      }
    },
    {
      "cell_type": "code",
      "source": [
        "# Dataset First Look\n",
        "merged"
      ],
      "metadata": {
        "id": "LWNFOSvLl09H"
      },
      "execution_count": null,
      "outputs": []
    },
    {
      "cell_type": "markdown",
      "source": [
        "### Dataset Rows & Columns count"
      ],
      "metadata": {
        "id": "7hBIi_osiCS2"
      }
    },
    {
      "cell_type": "code",
      "source": [
        "# Dataset Rows & Columns count\n",
        "merged.shape"
      ],
      "metadata": {
        "id": "Kllu7SJgmLij"
      },
      "execution_count": null,
      "outputs": []
    },
    {
      "cell_type": "markdown",
      "source": [
        "### Dataset Information"
      ],
      "metadata": {
        "id": "JlHwYmJAmNHm"
      }
    },
    {
      "cell_type": "code",
      "source": [
        "# Dataset Info\n",
        "merged.info()"
      ],
      "metadata": {
        "id": "e9hRXRi6meOf"
      },
      "execution_count": null,
      "outputs": []
    },
    {
      "cell_type": "markdown",
      "source": [
        "#### Duplicate Values"
      ],
      "metadata": {
        "id": "35m5QtbWiB9F"
      }
    },
    {
      "cell_type": "code",
      "source": [
        "# Dataset Duplicate Value Count\n",
        "merged.duplicated().sum()"
      ],
      "metadata": {
        "id": "1sLdpKYkmox0"
      },
      "execution_count": null,
      "outputs": []
    },
    {
      "cell_type": "code",
      "source": [
        "# show duplicate records\n",
        "merged[merged.duplicated()]"
      ],
      "metadata": {
        "id": "76COWyf7y9R4"
      },
      "execution_count": null,
      "outputs": []
    },
    {
      "cell_type": "code",
      "source": [
        "# Deleting duplicate records\n",
        "merged.drop_duplicates(inplace=True)"
      ],
      "metadata": {
        "id": "TbPvUP78u9Sr"
      },
      "execution_count": null,
      "outputs": []
    },
    {
      "cell_type": "code",
      "source": [
        "# Dataset Duplicate Value Count\n",
        "merged.duplicated().sum()"
      ],
      "metadata": {
        "id": "JyZMk1iPvAlE"
      },
      "execution_count": null,
      "outputs": []
    },
    {
      "cell_type": "markdown",
      "source": [
        "#### Missing Values/Null Values"
      ],
      "metadata": {
        "id": "PoPl-ycgm1ru"
      }
    },
    {
      "cell_type": "code",
      "source": [
        "# Missing Values/Null Values Count\n",
        "merged.isnull().sum()"
      ],
      "metadata": {
        "id": "GgHWkxvamxVg"
      },
      "execution_count": null,
      "outputs": []
    },
    {
      "cell_type": "code",
      "source": [
        "# print match_id where umpire1 is blank\n",
        "merged[merged['umpire1'].isnull()]['match_id']"
      ],
      "metadata": {
        "id": "kTQGYmt7yV_m"
      },
      "execution_count": null,
      "outputs": []
    },
    {
      "cell_type": "code",
      "source": [
        "# Visualizing the missing values\n",
        "plt.figure(figsize=(10,5))\n",
        "merged.isnull().sum().plot(kind='bar')\n",
        "plt.tight_layout()\n",
        "plt.show()"
      ],
      "metadata": {
        "id": "3q5wnI3om9sJ"
      },
      "execution_count": null,
      "outputs": []
    },
    {
      "cell_type": "markdown",
      "source": [
        "### What did you know about your dataset?"
      ],
      "metadata": {
        "id": "H0kj-8xxnORC"
      }
    },
    {
      "cell_type": "markdown",
      "source": [
        "It is a comprehensive dataset covering both macro level (match outcomes) and micro level (ball by ball events) details.\n",
        "\n",
        "It allowed me to analyze not just who won, but how they won whether by runs, wickets, or close finishes.\n",
        "\n",
        "Since it had both batting and bowling data at the ball level, I could calculate advanced stats like maiden overs, highest individual scores, and top bowling figures.\n",
        "\n",
        "The dataset also covered external influences like toss decisions, Duckworth Lewis affected matches, and umpire involvements.\n",
        "\n",
        "It was well structured for relational analysis since both datasets used match_id as a key, enabling smooth merging."
      ],
      "metadata": {
        "id": "gfoNAAC-nUe_"
      }
    },
    {
      "cell_type": "markdown",
      "source": [
        "## ***2. Understanding Your Variables***"
      ],
      "metadata": {
        "id": "nA9Y7ga8ng1Z"
      }
    },
    {
      "cell_type": "code",
      "source": [
        "# Dataset Columns\n",
        "merged.columns"
      ],
      "metadata": {
        "id": "j7xfkqrt5Ag5"
      },
      "execution_count": null,
      "outputs": []
    },
    {
      "cell_type": "code",
      "source": [
        "# Dataset Describe\n",
        "merged.describe(include='all').transpose()"
      ],
      "metadata": {
        "id": "DnOaZdaE5Q5t"
      },
      "execution_count": null,
      "outputs": []
    },
    {
      "cell_type": "markdown",
      "source": [
        "### Variables Description"
      ],
      "metadata": {
        "id": "PBTbrJXOngz2"
      }
    },
    {
      "cell_type": "markdown",
      "source": [
        "**Matches Dataset Columns**\n",
        "\n",
        "id: Unique identifier for each match.\n",
        "\n",
        "season: The year the IPL season took place.\n",
        "\n",
        "city: The city where the match was played.\n",
        "\n",
        "date: The date on which the match was played.\n",
        "\n",
        "team1: The name of one of the teams that played the match.\n",
        "\n",
        "team2: The name of the other team that played the match.\n",
        "\n",
        "toss_winner: The team that won the toss.\n",
        "\n",
        "toss_decision: The decision made by the toss-winning team (field or bat).\n",
        "\n",
        "result: The result of the match (e.g., normal, tie).\n",
        "\n",
        "dl_applied: Indicates if the Duckworth-Lewis method was applied (1 if applied, 0 if not).\n",
        "\n",
        "winner: The team that won the match.\n",
        "\n",
        "win_by_runs: Margin of victory in runs if the match was won by runs.\n",
        "\n",
        "win_by_wickets: Margin of victory in wickets if the match was won by wickets.\n",
        "\n",
        "player_of_match: The player who was awarded the Player of the Match.\n",
        "\n",
        "venue: The name of the stadium where the match was played.\n",
        "\n",
        "umpire1: The name of the first umpire.\n",
        "\n",
        "umpire2: The name of the second umpire.\n",
        "\n",
        "umpire3: The name of the third umpire (if any).\n",
        "\n",
        "**Deliveries Dataset Columns**\n",
        "\n",
        "match_id: Unique identifier for each match (same as in the matches dataset).\n",
        "inning: The inning number (1 or 2).\n",
        "\n",
        "batting_team: The team that is currently batting.\n",
        "\n",
        "bowling_team: The team that is currently bowling.\n",
        "\n",
        "over: The over number in the current inning.\n",
        "\n",
        "ball: The ball number in the current over.\n",
        "\n",
        "batsman: The name of the batsman facing the delivery.\n",
        "\n",
        "non_striker: The name of the batsman at the non-striker end.\n",
        "\n",
        "bowler: The name of the bowler delivering the ball.\n",
        "\n",
        "is_super_over: Indicates if the ball was delivered in a Super Over (1 if true, 0 if not).\n",
        "\n",
        "wide_runs: Number of runs scored as wides in the delivery.\n",
        "\n",
        "bye_runs: Number of runs scored as byes in the delivery.\n",
        "\n",
        "legbye_runs: Number of runs scored as leg byes in the delivery.\n",
        "\n",
        "noball_runs: Number of runs scored as no-balls in the delivery.\n",
        "\n",
        "penalty_runs: Number of penalty runs awarded in the delivery.\n",
        "\n",
        "batsman_runs: Number of runs scored by the batsman on the delivery.\n",
        "\n",
        "extra_runs: Total extra runs awarded in the delivery (sum of wide, bye, legbye, noball, and penalty runs).\n",
        "\n",
        "total_runs: Total runs scored in the delivery (sum of batsman runs and extra runs).\n",
        "\n",
        "player_dismissed: Name of the player dismissed in the delivery (if any).\n",
        "\n",
        "dismissal_kind: The method of dismissal (e.g., caught, bowled, run-out).\n",
        "\n",
        "fielder: Name of the fielder involved in the dismissal (if any).\n"
      ],
      "metadata": {
        "id": "aJV4KIxSnxay"
      }
    },
    {
      "cell_type": "markdown",
      "source": [
        "### Check Unique Values for each variable."
      ],
      "metadata": {
        "id": "u3PMJOP6ngxN"
      }
    },
    {
      "cell_type": "code",
      "source": [
        "# Check Unique Values for each variable.\n",
        "merged.nunique()"
      ],
      "metadata": {
        "id": "zms12Yq5n-jE"
      },
      "execution_count": null,
      "outputs": []
    },
    {
      "cell_type": "markdown",
      "source": [
        "## 3. ***Data Wrangling***"
      ],
      "metadata": {
        "id": "dauF4eBmngu3"
      }
    },
    {
      "cell_type": "markdown",
      "source": [
        "### Data Wrangling Code"
      ],
      "metadata": {
        "id": "bKJF3rekwFvQ"
      }
    },
    {
      "cell_type": "code",
      "source": [
        "# Write your code to make your dataset analysis ready.\n",
        "\n",
        "\n",
        "#replace blanks in umpire1, umpire2 and umpire3 column with Unknown\n",
        "merged['umpire1'].fillna('Unknown',inplace=True)\n",
        "merged['umpire2'].fillna('Unknown',inplace=True)\n",
        "merged['umpire3'].fillna('Unknown',inplace=True)\n",
        "\n",
        "\n",
        "#replace Rising Pune Supergiant with Rising Pune Supergiants in any where that occurs\n",
        "merged = merged.replace(\"Rising Pune Supergiant\", \"Rising Pune Supergiants\")\n",
        "\n",
        "# Filling blanks in city column with Team 1 homeground\n",
        "team_city_map = {\n",
        "    \"Chennai Super Kings\": \"Chennai\",\n",
        "    \"Deccan Chargers\": \"Hyderabad\",\n",
        "    \"Delhi Daredevils\": \"Delhi\",\n",
        "    \"Gujarat Lions\": \"Rajkot\",\n",
        "    \"Kings XI Punjab\": \"Mohali\",\n",
        "    \"Kochi Tuskers Kerala\": \"Kochi\",\n",
        "    \"Kolkata Knight Riders\": \"Kolkata\",\n",
        "    \"Mumbai Indians\": \"Mumbai\",\n",
        "    \"Pune Warriors\": \"Pune\",\n",
        "    \"Rajasthan Royals\": \"Jaipur\",\n",
        "    \"Rising Pune Supergiants\": \"Pune\",\n",
        "    \"Royal Challengers Bangalore\": \"Bangalore\",\n",
        "    \"Sunrisers Hyderabad\": \"Hyderabad\"\n",
        "}\n",
        "\n",
        "def fill_city(row):\n",
        "    if pd.isna(row['city']):\n",
        "        return team_city_map.get(row['team1'], None)\n",
        "    return row['city']\n",
        "\n",
        "merged['city'] = merged.apply(fill_city, axis=1)\n",
        "\n",
        "# replace blanks in winner column and player_of_match to Tie Match\n",
        "merged['winner'].fillna('Tie Match',inplace=True)\n",
        "merged['player_of_match'].fillna('Tie Match',inplace=True)\n",
        "\n",
        "# Ensure one row per match\n",
        "unique_matches = merged.drop_duplicates(subset=\"match_id\")"
      ],
      "metadata": {
        "id": "wk-9a2fpoLcV"
      },
      "execution_count": null,
      "outputs": []
    },
    {
      "cell_type": "code",
      "source": [
        "merged.isnull().sum()"
      ],
      "metadata": {
        "id": "21s8XNfn0Fqb"
      },
      "execution_count": null,
      "outputs": []
    },
    {
      "cell_type": "code",
      "source": [
        "# download merged csv\n",
        "merged.to_csv('merged.csv',index=False)"
      ],
      "metadata": {
        "id": "PQaXJZkz6ICU"
      },
      "execution_count": null,
      "outputs": []
    },
    {
      "cell_type": "markdown",
      "source": [
        "### What all manipulations have you done and insights you found?"
      ],
      "metadata": {
        "id": "MSa1f5Uengrz"
      }
    },
    {
      "cell_type": "markdown",
      "source": [
        "Handled Missing Umpire Data\n",
        "\n",
        "Replaced blanks (NaN) in umpire1, umpire2, and umpire3 columns with \"Unknown\".\n",
        "\n",
        "This ensured umpire-related analysis (like number of matches officiated) wouldn’t fail due to missing values.\n",
        "\n",
        "Standardized Team Names\n",
        "\n",
        "Replaced \"Rising Pune Supergiant\" with \"Rising Pune Supergiants\".\n",
        "\n",
        "This removed duplication of team names and prevented splitting stats between two variations of the same team.\n",
        "\n",
        "Imputed Missing Cities\n",
        "\n",
        "Used a mapping dictionary (team_city_map) to fill missing values in the city column based on Team 1’s home ground.\n",
        "\n",
        "This gave you complete venue information, which later allowed season-wise city analysis and home-ground comparisons.\n",
        "\n",
        "Handled Missing Match Results\n",
        "\n",
        "Replaced blanks in winner and player_of_match with \"Tie Match\".\n",
        "\n",
        "This allowed you to include tied matches in your analysis without leaving missing values, and also showed when no single winner or Player of the Match existed.\n",
        "\n",
        "Ensured One Row per Match\n",
        "\n",
        "Used drop_duplicates(subset=\"match_id\") to avoid duplicate match entries (since merged data had ball-by-ball + match-level info).\n",
        "\n",
        "This was critical for match-level insights like winners, toss analysis, and season-wise counts."
      ],
      "metadata": {
        "id": "LbyXE7I1olp8"
      }
    },
    {
      "cell_type": "markdown",
      "source": [
        "## ***4. Data Vizualization, Storytelling & Experimenting with charts : Understand the relationships between variables***"
      ],
      "metadata": {
        "id": "GF8Ens_Soomf"
      }
    },
    {
      "cell_type": "markdown",
      "source": [
        "#### Chart - 1"
      ],
      "metadata": {
        "id": "0wOQAZs5pc--"
      }
    },
    {
      "cell_type": "code",
      "source": [
        "# Chart - 1 visualization code\n",
        "\n",
        "#Teams that won toss and won match\n",
        "match_results = unique_matches[['match_id', 'toss_winner', 'winner']]\n",
        "\n",
        "# Filter matches where same team won toss and match\n",
        "won_both = match_results[match_results['toss_winner'] == match_results['winner']]\n",
        "\n",
        "# Count per team\n",
        "team_wins = won_both['winner'].value_counts()\n",
        "\n",
        "# Plot\n",
        "plt.figure(figsize=(10,6))\n",
        "team_wins.plot(kind='bar', color='skyblue')\n",
        "plt.title(\"Teams That Won Both Toss and Match\", fontsize=14)\n",
        "plt.xlabel(\"Team\")\n",
        "plt.ylabel(\"Number of Matches\")\n",
        "plt.xticks(rotation=45,ha ='right')\n",
        "plt.tight_layout()\n",
        "for i, value in enumerate(team_wins):\n",
        "    plt.text(i, value, str(value), ha='center', va='bottom', fontsize=10, fontweight='bold')\n",
        "plt.show()"
      ],
      "metadata": {
        "id": "7v_ESjsspbW7"
      },
      "execution_count": null,
      "outputs": []
    },
    {
      "cell_type": "markdown",
      "source": [
        "##### 1. Why did you pick the specific chart?"
      ],
      "metadata": {
        "id": "K5QZ13OEpz2H"
      }
    },
    {
      "cell_type": "markdown",
      "source": [
        "I picked a bar chart because it clearly shows categorical comparisons between IPL teams in terms of how often they won both the toss and the match. Since each team is a distinct category and the number of matches is a straightforward count, a bar chart is the most effective way to represent the data. It allows quick identification of which teams have benefited the most from converting toss wins into match wins."
      ],
      "metadata": {
        "id": "XESiWehPqBRc"
      }
    },
    {
      "cell_type": "markdown",
      "source": [
        "##### 2. What is/are the insight(s) found from the chart?"
      ],
      "metadata": {
        "id": "lQ7QKXXCp7Bj"
      }
    },
    {
      "cell_type": "markdown",
      "source": [
        "1. The Mumbai Indians lead significantly, having won both the toss and the match on 48 occasions, which indicates their ability to convert the initial advantage of the toss into a winning outcome more often than other teams.\n",
        "\n",
        "2. Newer or less successful teams like Pune Warriors (3), Kochi Tuskers Kerala (4), and Rising Pune Supergiants (8) have very low counts, suggesting that either they did not win enough tosses or were unable to capitalize on them to secure victories."
      ],
      "metadata": {
        "id": "C_j1G7yiqdRP"
      }
    },
    {
      "cell_type": "markdown",
      "source": [
        "##### 3. Will the gained insights help creating a positive business impact?\n",
        "Are there any insights that lead to negative growth? Justify with specific reason."
      ],
      "metadata": {
        "id": "448CDAPjqfQr"
      }
    },
    {
      "cell_type": "markdown",
      "source": [
        "Knowing which teams successfully convert toss wins into match wins can help franchises evaluate and refine their toss-based strategies."
      ],
      "metadata": {
        "id": "3cspy4FjqxJW"
      }
    },
    {
      "cell_type": "markdown",
      "source": [
        "#### Chart - 2"
      ],
      "metadata": {
        "id": "KSlN3yHqYklG"
      }
    },
    {
      "cell_type": "code",
      "source": [
        "# Chart - 2 visualization code\n",
        "#Teams that won toss but lost match\n",
        "match_results = unique_matches[['match_id', 'toss_winner', 'winner']]\n",
        "\n",
        "# Filter matches where toss winner lost the match\n",
        "lost_after_toss = match_results[match_results['toss_winner'] != match_results['winner']]\n",
        "\n",
        "# Count per team (toss winner who lost match)\n",
        "team_losses = lost_after_toss['toss_winner'].value_counts()\n",
        "\n",
        "# Plot\n",
        "plt.figure(figsize=(10,6))\n",
        "team_losses.plot(kind='bar', color='salmon')\n",
        "plt.title(\"Teams That Won Toss but Lost Match\", fontsize=14)\n",
        "plt.xlabel(\"Team\")\n",
        "plt.ylabel(\"Number of Matches\")\n",
        "plt.xticks(rotation=45, ha='right')\n",
        "plt.tight_layout()\n",
        "for i, value in enumerate(team_losses):\n",
        "    plt.text(i, value, str(value), ha='center', va='bottom', fontsize=10, fontweight='bold')\n",
        "plt.show()\n"
      ],
      "metadata": {
        "id": "R4YgtaqtYklH"
      },
      "execution_count": null,
      "outputs": []
    },
    {
      "cell_type": "markdown",
      "source": [
        "##### 1. Why did you pick the specific chart?"
      ],
      "metadata": {
        "id": "t6dVpIINYklI"
      }
    },
    {
      "cell_type": "markdown",
      "source": [
        "I chose a bar chart because it is the most effective way to compare categorical data across teams. It allows a clear visual comparison of how many times each IPL team won the toss but failed to win the match. Since the focus is on team-wise frequency, the bar chart provides an intuitive, easy-to-read representation."
      ],
      "metadata": {
        "id": "5aaW0BYyYklI"
      }
    },
    {
      "cell_type": "markdown",
      "source": [
        "##### 2. What is/are the insight(s) found from the chart?"
      ],
      "metadata": {
        "id": "ijmpgYnKYklI"
      }
    },
    {
      "cell_type": "markdown",
      "source": [
        "1. Kings XI Punjab have the highest number of instances (40 matches) where they won the toss but lost the match. This indicates that winning the toss did not always translate into a winning strategy for them.\n",
        "\n",
        "\n",
        "2. Teams like Delhi Daredevils (39) and Mumbai Indians (37) also show a high number of such occurrences, which highlights that even successful teams can sometimes fail to capitalize on the advantage of winning the toss."
      ],
      "metadata": {
        "id": "PSx9atu2YklI"
      }
    },
    {
      "cell_type": "markdown",
      "source": [
        "##### 3. Will the gained insights help creating a positive business impact?\n",
        "Are there any insights that lead to negative growth? Justify with specific reason."
      ],
      "metadata": {
        "id": "-JiQyfWJYklI"
      }
    },
    {
      "cell_type": "markdown",
      "source": [
        "1. Franchises can use these insights to evaluate and refine their post-toss strategies.\n",
        "2. Broadcasters and analysts can use such insights to create engaging narratives"
      ],
      "metadata": {
        "id": "BcBbebzrYklV"
      }
    },
    {
      "cell_type": "markdown",
      "source": [
        "#### Chart - 3"
      ],
      "metadata": {
        "id": "EM7whBJCYoAo"
      }
    },
    {
      "cell_type": "code",
      "source": [
        "# Chart - 3 visualization code\n",
        "# Filter only caught dismissals\n",
        "catches = merged[merged['dismissal_kind'] == 'caught']\n",
        "\n",
        "# Count catches per fielding team\n",
        "team_catches = catches['bowling_team'].value_counts()\n",
        "\n",
        "# Plot\n",
        "plt.figure(figsize=(10,6))\n",
        "team_catches.plot(kind='bar', color='lightgreen')\n",
        "plt.title(\"Total Catches by Teams\", fontsize=14)\n",
        "plt.xlabel(\"Team\")\n",
        "plt.ylabel(\"Number of Catches\")\n",
        "plt.xticks(rotation=45, ha='right')\n",
        "plt.tight_layout()\n",
        "for i, value in enumerate(team_catches):\n",
        "    plt.text(i, value, str(value), ha='center', va='bottom', fontsize=10, fontweight='bold')\n",
        "plt.show()\n"
      ],
      "metadata": {
        "id": "t6GMdE67YoAp"
      },
      "execution_count": null,
      "outputs": []
    },
    {
      "cell_type": "markdown",
      "source": [
        "##### 1. Why did you pick the specific chart?"
      ],
      "metadata": {
        "id": "fge-S5ZAYoAp"
      }
    },
    {
      "cell_type": "markdown",
      "source": [
        "I picked a bar chart because it provides a clear comparison of total catches taken by different IPL teams. Since catches are discrete counts associated with categorical variables (teams), a bar chart makes it easy to quickly identify which teams have been the most effective in the field."
      ],
      "metadata": {
        "id": "5dBItgRVYoAp"
      }
    },
    {
      "cell_type": "markdown",
      "source": [
        "##### 2. What is/are the insight(s) found from the chart?"
      ],
      "metadata": {
        "id": "85gYPyotYoAp"
      }
    },
    {
      "cell_type": "markdown",
      "source": [
        "1. Royal Challengers Bangalore (555) and Mumbai Indians (554) are almost neck-to-neck as the teams with the highest number of catches, showing their consistent fielding contributions across seasons.\n",
        "\n",
        "2. Teams like Kochi Tuskers Kerala (35) and Gujarat Lions (94) have the least catches, which can be attributed to their short stints in the IPL, highlighting how longevity in the league directly impacts cumulative stats."
      ],
      "metadata": {
        "id": "4jstXR6OYoAp"
      }
    },
    {
      "cell_type": "markdown",
      "source": [
        "##### 3. Will the gained insights help creating a positive business impact?\n",
        "Are there any insights that lead to negative growth? Justify with specific reason."
      ],
      "metadata": {
        "id": "RoGjAbkUYoAp"
      }
    },
    {
      "cell_type": "markdown",
      "source": [
        "1. Teams with high catch counts demonstrate strong fielding standards.\n",
        "2. Highlighting such fielding statistics builds narratives beyond just batting and bowling."
      ],
      "metadata": {
        "id": "zfJ8IqMcYoAp"
      }
    },
    {
      "cell_type": "markdown",
      "source": [
        "#### Chart - 4"
      ],
      "metadata": {
        "id": "4Of9eVA-YrdM"
      }
    },
    {
      "cell_type": "code",
      "source": [
        "# Chart - 4 visualization code\n",
        "# Filter only bowled dismissals\n",
        "catches = merged[merged['dismissal_kind'] == 'bowled']\n",
        "\n",
        "# Count catches per fielding team\n",
        "team_catches = catches['bowling_team'].value_counts()\n",
        "\n",
        "# Plot\n",
        "plt.figure(figsize=(10,6))\n",
        "team_catches.plot(kind='bar', color='grey')\n",
        "plt.title(\"Total Bowled Wickets by Teams\", fontsize=14)\n",
        "plt.xlabel(\"Team\")\n",
        "plt.ylabel(\"Number of Wickets\")\n",
        "plt.xticks(rotation=45, ha='right')\n",
        "plt.tight_layout()\n",
        "for i, value in enumerate(team_catches):\n",
        "    plt.text(i, value, str(value), ha='center', va='bottom', fontsize=10, fontweight='bold')\n",
        "plt.show()\n"
      ],
      "metadata": {
        "id": "irlUoxc8YrdO"
      },
      "execution_count": null,
      "outputs": []
    },
    {
      "cell_type": "markdown",
      "source": [
        "##### 1. Why did you pick the specific chart?"
      ],
      "metadata": {
        "id": "iky9q4vBYrdO"
      }
    },
    {
      "cell_type": "markdown",
      "source": [
        "I selected a bar chart because it effectively showcases the number of wickets taken by each IPL team through the “bowled” mode of dismissal. Since the metric involves team-wise comparison of counts, the bar chart makes it easy to identify which teams have been most effective in bowling out batsmen directly."
      ],
      "metadata": {
        "id": "aJRCwT6DYrdO"
      }
    },
    {
      "cell_type": "markdown",
      "source": [
        "##### 2. What is/are the insight(s) found from the chart?"
      ],
      "metadata": {
        "id": "F6T5p64dYrdO"
      }
    },
    {
      "cell_type": "markdown",
      "source": [
        "1. Mumbai Indians lead with 192 bowled wickets, highlighting the strength and accuracy of their bowling attack over the years, particularly their fast bowlers and spinners who consistently hit the stumps.\n",
        "\n",
        "2. Teams like Kochi Tuskers Kerala (16) and Gujarat Lions (21) have the lowest number of bowled wickets, which aligns with their short stints in the IPL, showing that longevity in the league plays a big role in accumulating such stats."
      ],
      "metadata": {
        "id": "Xx8WAJvtYrdO"
      }
    },
    {
      "cell_type": "markdown",
      "source": [
        "##### 3. Will the gained insights help creating a positive business impact?\n",
        "Are there any insights that lead to negative growth? Justify with specific reason."
      ],
      "metadata": {
        "id": "y-Ehk30pYrdP"
      }
    },
    {
      "cell_type": "markdown",
      "source": [
        "1. This data helps franchises understand the bowling strengths of different teams.\n",
        "2. Bowled dismissals are considered one of the most exciting moments in cricket."
      ],
      "metadata": {
        "id": "jLNxxz7MYrdP"
      }
    },
    {
      "cell_type": "markdown",
      "source": [
        "#### Chart - 5"
      ],
      "metadata": {
        "id": "bamQiAODYuh1"
      }
    },
    {
      "cell_type": "code",
      "source": [
        "# Chart - 5 visualization code\n",
        "# Calculate total runs scored by each team\n",
        "team_runs = merged.groupby('batting_team')['total_runs'].sum().sort_values(ascending=False)\n",
        "\n",
        "# Plot\n",
        "plt.figure(figsize=(12,6))\n",
        "team_runs.plot(kind='bar', color='orange')\n",
        "plt.title(\"Total Runs Scored by Teams\", fontsize=14)\n",
        "plt.xlabel(\"Team\")\n",
        "plt.ylabel(\"Total Runs\")\n",
        "plt.xticks(rotation=45, ha='right')\n",
        "plt.tight_layout()\n",
        "for i, value in enumerate(team_runs):\n",
        "    plt.text(i, value, str(value), ha='center', va='bottom', fontsize=10, fontweight='bold')\n",
        "plt.show()\n"
      ],
      "metadata": {
        "id": "TIJwrbroYuh3"
      },
      "execution_count": null,
      "outputs": []
    },
    {
      "cell_type": "markdown",
      "source": [
        "##### 1. Why did you pick the specific chart?"
      ],
      "metadata": {
        "id": "QHF8YVU7Yuh3"
      }
    },
    {
      "cell_type": "markdown",
      "source": [
        "I chose a bar chart because it is the most effective way to compare the aggregate runs scored by different IPL teams. Since runs are cumulative numerical values and teams are categorical variables, a bar chart clearly highlights which teams have been the most prolific scorers in the league."
      ],
      "metadata": {
        "id": "dcxuIMRPYuh3"
      }
    },
    {
      "cell_type": "markdown",
      "source": [
        "##### 2. What is/are the insight(s) found from the chart?"
      ],
      "metadata": {
        "id": "GwzvFGzlYuh3"
      }
    },
    {
      "cell_type": "markdown",
      "source": [
        "1. The Mumbai Indians (24,520 runs) lead all teams, reflecting both their long term consistency in batting and their extended participation across seasons.\n",
        "\n",
        "2. At the bottom, short-lived franchises like Kochi Tuskers Kerala (1,901 runs), Rising Pune Supergiants (4,533 runs), and Gujarat Lions (4,862 runs) scored the least runs, which is expected given their brief presence in the league."
      ],
      "metadata": {
        "id": "uyqkiB8YYuh3"
      }
    },
    {
      "cell_type": "markdown",
      "source": [
        "##### 3. Will the gained insights help creating a positive business impact?\n",
        "Are there any insights that lead to negative growth? Justify with specific reason."
      ],
      "metadata": {
        "id": "qYpmQ266Yuh3"
      }
    },
    {
      "cell_type": "markdown",
      "source": [
        "1. Teams with lower run totals can identify gaps in their batting lineups and invest in stronger top-order or power-hitting players during auctions.\n",
        "2. This creates exciting storylines that boost fan loyalty and viewer engagement, ultimately driving higher commercial returns."
      ],
      "metadata": {
        "id": "_WtzZ_hCYuh4"
      }
    },
    {
      "cell_type": "markdown",
      "source": [
        "#### Chart - 6"
      ],
      "metadata": {
        "id": "OH-pJp9IphqM"
      }
    },
    {
      "cell_type": "code",
      "source": [
        "# Chart - 6 visualization code\n",
        "# Calculate total runs scored by each batsman\n",
        "batsman_runs = merged.groupby('batsman')['total_runs'].sum().sort_values(ascending=False)\n",
        "\n",
        "# Plot top 10 batsmen\n",
        "plt.figure(figsize=(10,6))\n",
        "batsman_runs.head(10).plot(kind='bar', color='purple')\n",
        "plt.title(\"Top 10 Run Scorers\", fontsize=14)\n",
        "plt.xlabel(\"Batsman\")\n",
        "plt.ylabel(\"Total Runs\")\n",
        "plt.xticks(rotation=45, ha='right')\n",
        "plt.tight_layout()\n",
        "for i, value in enumerate(batsman_runs.head(10)):\n",
        "    plt.text(i, value, str(value), ha='center', va='bottom', fontsize=10, fontweight='bold')\n",
        "plt.show()\n"
      ],
      "metadata": {
        "id": "kuRf4wtuphqN"
      },
      "execution_count": null,
      "outputs": []
    },
    {
      "cell_type": "markdown",
      "source": [
        "##### 1. Why did you pick the specific chart?"
      ],
      "metadata": {
        "id": "bbFf2-_FphqN"
      }
    },
    {
      "cell_type": "markdown",
      "source": [
        "I selected bar charts because they provide the clearest and most direct way to compare performances of players across runs. Since each player is a distinct category and the values are numerical, bar charts allow for quick identification of top performers."
      ],
      "metadata": {
        "id": "loh7H2nzphqN"
      }
    },
    {
      "cell_type": "markdown",
      "source": [
        "##### 2. What is/are the insight(s) found from the chart?"
      ],
      "metadata": {
        "id": "_ouA3fa0phqN"
      }
    },
    {
      "cell_type": "markdown",
      "source": [
        "1.  Suresh Raina leads the list with 4745 runs, highlighting his consistency as a top-order batsman across multiple seasons.\n",
        "\n",
        "2. Virat Kohli (4588) and Rohit Sharma (4334) follow closely, showing that these players have been central to their teams’ batting success."
      ],
      "metadata": {
        "id": "VECbqPI7phqN"
      }
    },
    {
      "cell_type": "markdown",
      "source": [
        "##### 3. Will the gained insights help creating a positive business impact?\n",
        "Are there any insights that lead to negative growth? Justify with specific reason."
      ],
      "metadata": {
        "id": "Seke61FWphqN"
      }
    },
    {
      "cell_type": "markdown",
      "source": [
        "1. From the batting and bowling insights, franchises can use this data to make informed decisions during auctions, targeting consistent run scorers and wicket takers who provide proven value.\n",
        "\n",
        "2. The analysis of extras conceded highlights a key area of improvement discipline in bowling. Addressing this through training and analytics can save crucial runs, potentially altering match outcomes and improving a team’s win rate."
      ],
      "metadata": {
        "id": "DW4_bGpfphqN"
      }
    },
    {
      "cell_type": "markdown",
      "source": [
        "#### Chart - 7"
      ],
      "metadata": {
        "id": "PIIx-8_IphqN"
      }
    },
    {
      "cell_type": "code",
      "source": [
        "# Chart - 7 visualization code\n",
        "# Calculate total extras conceded per bowler\n",
        "bowler_extras = merged.groupby('bowler')['extra_runs'].sum().sort_values(ascending=False)\n",
        "\n",
        "# Plot top 10 bowlers\n",
        "plt.figure(figsize=(10,6))\n",
        "bowler_extras.head(10).plot(kind='bar', color='red')\n",
        "plt.title(\"Top 10 Bowlers Who Conceded Most Extras\", fontsize=14)\n",
        "plt.xlabel(\"Bowler\")\n",
        "plt.ylabel(\"Total Extras Conceded\")\n",
        "plt.xticks(rotation=45, ha='right')\n",
        "plt.tight_layout()\n",
        "for i, value in enumerate(bowler_extras.head(10)):\n",
        "    plt.text(i, value, str(value), ha='center', va='bottom', fontsize=10, fontweight='bold')\n",
        "plt.show()\n"
      ],
      "metadata": {
        "id": "lqAIGUfyphqO"
      },
      "execution_count": null,
      "outputs": []
    },
    {
      "cell_type": "markdown",
      "source": [
        "##### 1. Why did you pick the specific chart?"
      ],
      "metadata": {
        "id": "t27r6nlMphqO"
      }
    },
    {
      "cell_type": "markdown",
      "source": [
        "I selected bar charts because they provide the clearest and most direct way to compare performances of players across categories extras conceded. Since each player is a distinct category and the values are numerical, bar charts allow for quick identification of underperformers."
      ],
      "metadata": {
        "id": "iv6ro40sphqO"
      }
    },
    {
      "cell_type": "markdown",
      "source": [
        "##### 2. What is/are the insight(s) found from the chart?"
      ],
      "metadata": {
        "id": "r2jJGEOYphqO"
      }
    },
    {
      "cell_type": "markdown",
      "source": [
        "1. Lasith Malinga tops the list with 268 extras conceded, which, despite his success as a bowler, shows the flip side of being expensive in terms of discipline.\n",
        "\n",
        "2. Prominent names like P Kumar (236) and U Yadav (186) also appear, reflecting areas where bowlers need to improve control to reduce free runs"
      ],
      "metadata": {
        "id": "Po6ZPi4hphqO"
      }
    },
    {
      "cell_type": "markdown",
      "source": [
        "##### 3. Will the gained insights help creating a positive business impact?\n",
        "Are there any insights that lead to negative growth? Justify with specific reason."
      ],
      "metadata": {
        "id": "b0JNsNcRphqO"
      }
    },
    {
      "cell_type": "markdown",
      "source": [
        "1. From the batting and bowling insights, franchises can use this data to make informed decisions during auctions, targeting consistent run scorers and wicket takers who provide proven value.\n",
        "\n",
        "2. The analysis of extras conceded highlights a key area of improvement discipline in bowling. Addressing this through training and analytics can save crucial runs, potentially altering match outcomes and improving a team’s win rate."
      ],
      "metadata": {
        "id": "xvSq8iUTphqO"
      }
    },
    {
      "cell_type": "markdown",
      "source": [
        "#### Chart - 8"
      ],
      "metadata": {
        "id": "BZR9WyysphqO"
      }
    },
    {
      "cell_type": "code",
      "source": [
        "# Chart - 8 visualization code\n",
        "# Filter only dismissals credited to bowlers\n",
        "valid_dismissals = merged[\n",
        "    merged['dismissal_kind'].isin([\n",
        "        'bowled', 'caught', 'lbw', 'stumped', 'caught and bowled', 'hit wicket'])]\n",
        "\n",
        "# Count dismissals per bowler\n",
        "bowler_wickets = valid_dismissals.groupby('bowler')['player_dismissed'].count().sort_values(ascending=False)\n",
        "\n",
        "# Plot top 10 bowlers\n",
        "plt.figure(figsize=(10,6))\n",
        "bowler_wickets.head(10).plot(kind='bar', color='teal')\n",
        "plt.title(\"Top 10 Bowlers by Dismissals\", fontsize=14)\n",
        "plt.xlabel(\"Bowler\")\n",
        "plt.ylabel(\"Total Dismissals\")\n",
        "plt.xticks(rotation=45, ha='right')\n",
        "plt.tight_layout()\n",
        "for i,value in enumerate(bowler_wickets.head(10)):\n",
        "    plt.text(i, value, str(value), ha='center', va='bottom', fontsize=10, fontweight='bold')\n",
        "plt.show()\n"
      ],
      "metadata": {
        "id": "TdPTWpAVphqO"
      },
      "execution_count": null,
      "outputs": []
    },
    {
      "cell_type": "markdown",
      "source": [
        "##### 1. Why did you pick the specific chart?"
      ],
      "metadata": {
        "id": "jj7wYXLtphqO"
      }
    },
    {
      "cell_type": "markdown",
      "source": [
        "I selected bar charts because they provide the clearest and most direct way to compare performances of players across categories dismissals. Since each player is a distinct category and the values are numerical, bar charts allow for quick identification of top performers."
      ],
      "metadata": {
        "id": "Ob8u6rCTphqO"
      }
    },
    {
      "cell_type": "markdown",
      "source": [
        "##### 2. What is/are the insight(s) found from the chart?"
      ],
      "metadata": {
        "id": "eZrbJ2SmphqO"
      }
    },
    {
      "cell_type": "markdown",
      "source": [
        "1. Again, Lasith Malinga dominates with 154 dismissals, proving his immense value as a strike bowler despite conceding extras.\n",
        "\n",
        "2. Amit Mishra (134) and Harbhajan Singh (127) also rank high, emphasizing the importance of spinners in IPL success."
      ],
      "metadata": {
        "id": "mZtgC_hjphqO"
      }
    },
    {
      "cell_type": "markdown",
      "source": [
        "##### 3. Will the gained insights help creating a positive business impact?\n",
        "Are there any insights that lead to negative growth? Justify with specific reason."
      ],
      "metadata": {
        "id": "rFu4xreNphqO"
      }
    },
    {
      "cell_type": "markdown",
      "source": [
        "1. From the batting and bowling insights, franchises can use this data to make informed decisions during auctions, targeting consistent run scorers and wicket takers who provide proven value.\n",
        "\n",
        "2. The analysis of extras conceded highlights a key area of improvement discipline in bowling. Addressing this through training and analytics can save crucial runs, potentially altering match outcomes and improving a team’s win rate."
      ],
      "metadata": {
        "id": "ey_0qi68phqO"
      }
    },
    {
      "cell_type": "markdown",
      "source": [
        "#### Chart - 9"
      ],
      "metadata": {
        "id": "YJ55k-q6phqO"
      }
    },
    {
      "cell_type": "code",
      "source": [
        "# Chart - 9 visualization code\n",
        "# Count Man of the Match awards per player\n",
        "mom_counts = unique_matches['player_of_match'].value_counts()\n",
        "\n",
        "# Plot top 10 players\n",
        "plt.figure(figsize=(10,6))\n",
        "mom_counts.head(10).plot(kind='bar', color='gold')\n",
        "plt.title(\"Top 10 Players by Man of the Match Awards\", fontsize=14)\n",
        "plt.xlabel(\"Player\")\n",
        "plt.ylabel(\"Number of Awards\")\n",
        "plt.xticks(rotation=45, ha='right')\n",
        "plt.tight_layout()\n",
        "for i, value in enumerate(mom_counts.head(10)):\n",
        "    plt.text(i, value, str(value), ha='center', va='bottom', fontsize=10, fontweight='bold')\n",
        "plt.show()"
      ],
      "metadata": {
        "id": "B2aS4O1ophqO"
      },
      "execution_count": null,
      "outputs": []
    },
    {
      "cell_type": "markdown",
      "source": [
        "##### 1. Why did you pick the specific chart?"
      ],
      "metadata": {
        "id": "gCFgpxoyphqP"
      }
    },
    {
      "cell_type": "markdown",
      "source": [
        "The chart showcasing the top 10 players by Man of the Match awards was chosen because it clearly highlights individual performances and player impact within a competitive environment. This type of visualization helps in quickly identifying star players whose contributions are consistently recognized, which is a key metric in sports analytics."
      ],
      "metadata": {
        "id": "TVxDimi2phqP"
      }
    },
    {
      "cell_type": "markdown",
      "source": [
        "##### 2. What is/are the insight(s) found from the chart?"
      ],
      "metadata": {
        "id": "OVtJsKN_phqQ"
      }
    },
    {
      "cell_type": "markdown",
      "source": [
        "1. Chris Gayle stands out with the highest number of Man of the Match awards (18).\n",
        "2. The difference in awards between subsequent players (e.g., between Pathan, Warner, and de Villiers) is quite narrow."
      ],
      "metadata": {
        "id": "ngGi97qjphqQ"
      }
    },
    {
      "cell_type": "markdown",
      "source": [
        "##### 3. Will the gained insights help creating a positive business impact?\n",
        "Are there any insights that lead to negative growth? Justify with specific reason."
      ],
      "metadata": {
        "id": "lssrdh5qphqQ"
      }
    },
    {
      "cell_type": "markdown",
      "source": [
        "1. Identifying players with the most Man of the Match awards can guide teams and sponsors in investing in high-impact individuals.\n",
        "2. Recognizing the most popular and impactful players enables tailored marketing campaigns and merchandise strategies."
      ],
      "metadata": {
        "id": "tBpY5ekJphqQ"
      }
    },
    {
      "cell_type": "markdown",
      "source": [
        "#### Chart - 10"
      ],
      "metadata": {
        "id": "U2RJ9gkRphqQ"
      }
    },
    {
      "cell_type": "code",
      "source": [
        "# Chart - 10 visualization code\n",
        "#Most wide runs by bowler\n",
        "\n",
        "# Count wide runs per bowler\n",
        "bowler_wide_runs = merged.groupby('bowler')['wide_runs'].sum().sort_values(ascending=False)\n",
        "\n",
        "# Plot\n",
        "plt.figure(figsize=(10,6))\n",
        "bowler_wide_runs.head(10).plot(kind='bar', color='green')\n",
        "plt.title(\"Top 10 Bowlers with Most Wide Runs\", fontsize=14)\n",
        "plt.xlabel(\"Bowler\")\n",
        "plt.ylabel(\"Total Wide Runs\")\n",
        "plt.xticks(rotation=45, ha='right')\n",
        "plt.tight_layout()\n",
        "for i, value in enumerate(bowler_wide_runs.head(10)):\n",
        "    plt.text(i, value, str(value), ha='center', va='bottom', fontsize=10, fontweight='bold')\n",
        "plt.show()"
      ],
      "metadata": {
        "id": "GM7a4YP4phqQ"
      },
      "execution_count": null,
      "outputs": []
    },
    {
      "cell_type": "markdown",
      "source": [
        "##### 1. Why did you pick the specific chart?"
      ],
      "metadata": {
        "id": "1M8mcRywphqQ"
      }
    },
    {
      "cell_type": "markdown",
      "source": [
        "This chart was chosen because it reveals which bowlers have conceded the highest number of wide runs, an important metric in understanding discipline and control in bowling key aspects that influence match outcomes."
      ],
      "metadata": {
        "id": "8agQvks0phqQ"
      }
    },
    {
      "cell_type": "markdown",
      "source": [
        "##### 2. What is/are the insight(s) found from the chart?"
      ],
      "metadata": {
        "id": "tgIPom80phqQ"
      }
    },
    {
      "cell_type": "markdown",
      "source": [
        "1. P Kumar and SL Malinga stand out, with 144 and 143 wide runs respectively, indicating recurring issues with control or aggressive tactics that result in more extras.\n",
        "\n",
        "2. After the top two, the numbers drop significantly (DW Steyn at 105), showing a considerable gap in wide runs given between the leaders and other bowlers."
      ],
      "metadata": {
        "id": "Qp13pnNzphqQ"
      }
    },
    {
      "cell_type": "markdown",
      "source": [
        "##### 3. Will the gained insights help creating a positive business impact?\n",
        "Are there any insights that lead to negative growth? Justify with specific reason."
      ],
      "metadata": {
        "id": "JMzcOPDDphqR"
      }
    },
    {
      "cell_type": "markdown",
      "source": [
        "1. Teams can target specific bowlers for remedial coaching, improving discipline and reducing unnecessary runs.\n",
        "2. Identifying bowlers with chronic issues can prevent teams from making costly recruitment decisions."
      ],
      "metadata": {
        "id": "R4Ka1PC2phqR"
      }
    },
    {
      "cell_type": "markdown",
      "source": [
        "#### Chart - 11"
      ],
      "metadata": {
        "id": "x-EpHcCOp1ci"
      }
    },
    {
      "cell_type": "code",
      "source": [
        "# Chart - 11 visualization code\n",
        "# Result of the Match\n",
        "result_type = unique_matches['result'].value_counts()\n",
        "\n",
        "#Plot\n",
        "plt.figure(figsize=(10,6))\n",
        "result_type.plot(kind='bar', color='seagreen')\n",
        "plt.title(\"Result Types\", fontsize=14)\n",
        "plt.xlabel(\"Result\")\n",
        "plt.ylabel(\"Number of Matches\")\n",
        "plt.xticks(rotation=45, ha='right')\n",
        "plt.tight_layout()\n",
        "for i, value in enumerate(result_type):\n",
        "    plt.text(i, value, str(value), ha='center', va='bottom', fontsize=10, fontweight='bold')\n",
        "plt.show()"
      ],
      "metadata": {
        "id": "mAQTIvtqp1cj"
      },
      "execution_count": null,
      "outputs": []
    },
    {
      "cell_type": "markdown",
      "source": [
        "##### 1. Why did you pick the specific chart?"
      ],
      "metadata": {
        "id": "X_VqEhTip1ck"
      }
    },
    {
      "cell_type": "markdown",
      "source": [
        "This chart provides an at a glance breakdown of match results, helping stakeholders quickly gauge the frequency of normal results, ties, and no results."
      ],
      "metadata": {
        "id": "-vsMzt_np1ck"
      }
    },
    {
      "cell_type": "markdown",
      "source": [
        "##### 2. What is/are the insight(s) found from the chart?"
      ],
      "metadata": {
        "id": "8zGJKyg5p1ck"
      }
    },
    {
      "cell_type": "markdown",
      "source": [
        "1. The overwhelming majority of matches conclude with normal results (626), with very few ties (7) and no results (3).\n",
        "2. The very low count of \"no result\" matches indicates effective scheduling and contingency planning."
      ],
      "metadata": {
        "id": "ZYdMsrqVp1ck"
      }
    },
    {
      "cell_type": "markdown",
      "source": [
        "##### 3. Will the gained insights help creating a positive business impact?\n",
        "Are there any insights that lead to negative growth? Justify with specific reason."
      ],
      "metadata": {
        "id": "PVzmfK_Ep1ck"
      }
    },
    {
      "cell_type": "markdown",
      "source": [
        "1. Organizers can confidently schedule more matches, knowing that completion rates are high, which reassures broadcasters, advertisers, and ticket buyers.\n",
        "\n",
        "2. The data offers proof to stakeholders and insurers that event disruptions are rare."
      ],
      "metadata": {
        "id": "druuKYZpp1ck"
      }
    },
    {
      "cell_type": "markdown",
      "source": [
        "#### Chart - 12"
      ],
      "metadata": {
        "id": "n3dbpmDWp1ck"
      }
    },
    {
      "cell_type": "code",
      "source": [
        "# Chart - 12 visualization code\n",
        "\n",
        "# Ensure one row per match and filter only matches where DL method was applied\n",
        "dl_matches = unique_matches[unique_matches['dl_applied'] == 1]\n",
        "\n",
        "# Count how many times each team was involved in DL matches\n",
        "dl_counts = (dl_matches['team1'].value_counts() + dl_matches['team2'].value_counts()).sort_values(ascending=False)\n",
        "\n",
        "# Plot\n",
        "plt.figure(figsize=(10,6))\n",
        "dl_counts.plot(kind='bar', color='steelblue')\n",
        "plt.title(\"Number of Matches Affected by DL Method (per Team)\", fontsize=14)\n",
        "plt.xlabel(\"Team\")\n",
        "plt.ylabel(\"DL-Applied Matches\")\n",
        "plt.xticks(rotation=45, ha='right')\n",
        "plt.tight_layout()\n",
        "for i, value in enumerate(dl_counts):\n",
        "    plt.text(i, value, str(value), ha='center', va='bottom', fontsize=10, fontweight='bold')\n",
        "plt.show()\n",
        "\n"
      ],
      "metadata": {
        "id": "bwevp1tKp1ck"
      },
      "execution_count": null,
      "outputs": []
    },
    {
      "cell_type": "markdown",
      "source": [
        "##### 1. Why did you pick the specific chart?"
      ],
      "metadata": {
        "id": "ylSl6qgtp1ck"
      }
    },
    {
      "cell_type": "markdown",
      "source": [
        "This chart highlights which teams experienced the most matches affected by the Duckworth-Lewis (DL) method, revealing trends in weather or interruptions that influence tournament fairness and strategic planning."
      ],
      "metadata": {
        "id": "m2xqNkiQp1ck"
      }
    },
    {
      "cell_type": "markdown",
      "source": [
        "##### 2. What is/are the insight(s) found from the chart?"
      ],
      "metadata": {
        "id": "ZWILFDl5p1ck"
      }
    },
    {
      "cell_type": "markdown",
      "source": [
        "1. Kolkata Knight Riders encountered DL conditions in 7 matches, more than any other team, signalling a potential geographic or scheduling pattern.\n",
        "\n",
        "2. Several teams experienced DL interventions (ranging from 3 to 7 matches), but not all teams are equally affected.\n"
      ],
      "metadata": {
        "id": "x-lUsV2mp1ck"
      }
    },
    {
      "cell_type": "markdown",
      "source": [
        "##### 3. Will the gained insights help creating a positive business impact?\n",
        "Are there any insights that lead to negative growth? Justify with specific reason."
      ],
      "metadata": {
        "id": "M7G43BXep1ck"
      }
    },
    {
      "cell_type": "markdown",
      "source": [
        "1. Organizers can adjust future schedules or venue selections to minimize weather-affected matches and improve fairness.\n",
        "2. Teams heavily affected can better inform sponsors and fans about contingencies."
      ],
      "metadata": {
        "id": "5wwDJXsLp1cl"
      }
    },
    {
      "cell_type": "markdown",
      "source": [
        "#### Chart - 13"
      ],
      "metadata": {
        "id": "Ag9LCva-p1cl"
      }
    },
    {
      "cell_type": "code",
      "source": [
        "# Chart - 13 visualization code\n",
        "# Ensure one row per match and filter only matches won by runs\n",
        "won_by_runs = unique_matches[unique_matches['win_by_runs'] > 0]\n",
        "\n",
        "# Count number of such wins per team and sort descending\n",
        "runs_wins = won_by_runs['winner'].value_counts().sort_values(ascending=False)\n",
        "\n",
        "# Plot\n",
        "plt.figure(figsize=(10,6))\n",
        "runs_wins.plot(kind='bar', color='navy')\n",
        "plt.title(\"Matches Won by Runs (per Team)\", fontsize=14)\n",
        "plt.xlabel(\"Team\")\n",
        "plt.ylabel(\"Matches Won by Runs\")\n",
        "plt.xticks(rotation=45, ha='right')\n",
        "plt.tight_layout()\n",
        "for i, value in enumerate(runs_wins):\n",
        "    plt.text(i, value, str(value), ha='center', va='bottom', fontsize=10, fontweight='bold')\n",
        "plt.show()\n"
      ],
      "metadata": {
        "id": "EUfxeq9-p1cl"
      },
      "execution_count": null,
      "outputs": []
    },
    {
      "cell_type": "markdown",
      "source": [
        "##### 1. Why did you pick the specific chart?"
      ],
      "metadata": {
        "id": "E6MkPsBcp1cl"
      }
    },
    {
      "cell_type": "markdown",
      "source": [
        "This chart was selected because it highlights the teams that have most frequently won matches by defending a total, which is a direct indicator of bowling and fielding strength as well as strategic acumen during high pressure situations."
      ],
      "metadata": {
        "id": "V22bRsFWp1cl"
      }
    },
    {
      "cell_type": "markdown",
      "source": [
        "##### 2. What is/are the insight(s) found from the chart?"
      ],
      "metadata": {
        "id": "2cELzS2fp1cl"
      }
    },
    {
      "cell_type": "markdown",
      "source": [
        "1. Mumbai Indians (47) and Chennai Super Kings (46) have the most wins by runs.\n",
        "\n",
        "2. There is a substantial difference between the top teams and others, with third-placed Kings XI Punjab winning only 32 times by runs."
      ],
      "metadata": {
        "id": "ozQPc2_Ip1cl"
      }
    },
    {
      "cell_type": "markdown",
      "source": [
        "##### 3. Will the gained insights help creating a positive business impact?\n",
        "Are there any insights that lead to negative growth? Justify with specific reason."
      ],
      "metadata": {
        "id": "3MPXvC8up1cl"
      }
    },
    {
      "cell_type": "markdown",
      "source": [
        "1. Teams with strong defensive records can attract sponsors and fans.\n",
        "2. Lower ranked teams can identify a need to improve their defending capabilities."
      ],
      "metadata": {
        "id": "GL8l1tdLp1cl"
      }
    },
    {
      "cell_type": "markdown",
      "source": [
        "#### Chart - 14"
      ],
      "metadata": {
        "id": "NC_X3p0fY2L0"
      }
    },
    {
      "cell_type": "code",
      "source": [
        "# Chart - 14 visualization code\n",
        "# Ensure one row per match and filter only matches won by wickets\n",
        "won_by_wickets = unique_matches[unique_matches['win_by_wickets'] > 0]\n",
        "\n",
        "# Count number of such wins per team and sort descending\n",
        "wicket_wins = won_by_wickets['winner'].value_counts().sort_values(ascending=False)\n",
        "\n",
        "# Plot\n",
        "plt.figure(figsize=(10,6))\n",
        "wicket_wins.plot(kind='bar', color='pink')\n",
        "plt.title(\"Matches Won by Wickets (per Team)\", fontsize=14)\n",
        "plt.xlabel(\"Team\")\n",
        "plt.ylabel(\"Matches Won by Wickets\")\n",
        "plt.xticks(rotation=45, ha='right')\n",
        "plt.tight_layout()\n",
        "for i, value in enumerate(wicket_wins):\n",
        "    plt.text(i, value, str(value), ha='center', va='bottom', fontsize=10, fontweight='bold')\n",
        "plt.show()"
      ],
      "metadata": {
        "id": "xyC9zolEZNRQ"
      },
      "execution_count": null,
      "outputs": []
    },
    {
      "cell_type": "markdown",
      "source": [
        "##### 1. Why did you pick the specific chart?"
      ],
      "metadata": {
        "id": "UV0SzAkaZNRQ"
      }
    },
    {
      "cell_type": "markdown",
      "source": [
        "This chart reveals which teams are most successful in chasing totals, showcasing the batting depth and composure of line-ups under pressure and aiding both fans and management in understanding team strengths."
      ],
      "metadata": {
        "id": "DVPuT8LYZNRQ"
      }
    },
    {
      "cell_type": "markdown",
      "source": [
        "##### 2. What is/are the insight(s) found from the chart?"
      ],
      "metadata": {
        "id": "YPEH6qLeZNRQ"
      }
    },
    {
      "cell_type": "markdown",
      "source": [
        "1. Kolkata Knight Riders Lead in Chases: Kolkata Knight Riders (46) top the list for wins while chasing, suggesting they excel under scoreboard pressure.\n",
        "\n",
        "2. Multiple teams (e.g., MI, RCB, DD, RR) have 40+ wicket wins."
      ],
      "metadata": {
        "id": "bfSqtnDqZNRR"
      }
    },
    {
      "cell_type": "markdown",
      "source": [
        "#### Chart - 15"
      ],
      "metadata": {
        "id": "q29F0dvdveiT"
      }
    },
    {
      "cell_type": "code",
      "source": [
        "# Chart - 15 visualization code\n",
        "\n",
        "# Calculate runs conceded per over by each bowler in each match\n",
        "over_runs = (merged.groupby(['match_id', 'bowler', 'over'])['total_runs'].sum().reset_index())\n",
        "\n",
        "# Filter only maiden overs and Count maiden overs per bowler\n",
        "maiden_overs = over_runs[over_runs['total_runs'] == 0]\n",
        "bowler_maidens = maiden_overs['bowler'].value_counts().sort_values(ascending=False)\n",
        "\n",
        "# Plot\n",
        "plt.figure(figsize=(10,6))\n",
        "bowler_maidens.head(10).plot(kind='bar', color='teal')\n",
        "plt.title(\"Top 10 Bowlers by Maiden Overs\", fontsize=14)\n",
        "plt.xlabel(\"Bowler\")\n",
        "plt.ylabel(\"Maiden Overs\")\n",
        "plt.xticks(rotation=45, ha='right')\n",
        "plt.tight_layout()\n",
        "for i, value in enumerate(bowler_maidens.head(10)):\n",
        "    plt.text(i, value, str(value), ha='center', va='bottom', fontsize=10, fontweight='bold')\n",
        "plt.show()\n"
      ],
      "metadata": {
        "id": "o58-TEIhveiU"
      },
      "execution_count": null,
      "outputs": []
    },
    {
      "cell_type": "markdown",
      "source": [
        "##### 1. Why did you pick the specific chart?"
      ],
      "metadata": {
        "id": "EXh0U9oCveiU"
      }
    },
    {
      "cell_type": "markdown",
      "source": [
        "This chart was chosen because it displays which bowlers are most successful at delivering maiden overs, a critical metric for pressure-building and game control in T20 cricket.\n"
      ],
      "metadata": {
        "id": "eMmPjTByveiU"
      }
    },
    {
      "cell_type": "markdown",
      "source": [
        "##### 2. What is/are the insight(s) found from the chart?"
      ],
      "metadata": {
        "id": "22aHeOlLveiV"
      }
    },
    {
      "cell_type": "markdown",
      "source": [
        "1. P Kumar’s Outstanding Record: P Kumar tops the chart with 12 maiden overs.\n",
        "\n",
        "2. Only a select group of bowlers (IK Pathan, Malinga, Steyn) have delivered more than 8 maiden overs.\n",
        "\n"
      ],
      "metadata": {
        "id": "uPQ8RGwHveiV"
      }
    },
    {
      "cell_type": "markdown",
      "source": [
        "#### Chart - 16"
      ],
      "metadata": {
        "id": "dfI5IKe6K6IC"
      }
    },
    {
      "cell_type": "code",
      "source": [
        "# Chart - 16 visualization code\n",
        "\n",
        "# Filter only caught dismissals\n",
        "caught_dismissals = merged[merged['dismissal_kind'].isin(['caught', 'caught and bowled'])]\n",
        "\n",
        "# Count dismissals per batsman\n",
        "caught_counts = caught_dismissals['player_dismissed'].value_counts().sort_values(ascending=False)\n",
        "\n",
        "# Plot top 10\n",
        "plt.figure(figsize=(10,6))\n",
        "caught_counts.head(10).plot(kind='bar', color='skyblue')\n",
        "plt.title(\"Top 10 Batsmen Most Dismissed by Catches\", fontsize=14)\n",
        "plt.xlabel(\"Batsman\")\n",
        "plt.ylabel(\"Number of Caught Dismissals\")\n",
        "plt.xticks(rotation=45, ha='right')\n",
        "plt.tight_layout()\n",
        "for i, value in enumerate(caught_counts.head(10)):\n",
        "    plt.text(i, value, str(value), ha='center', va='bottom', fontsize=10, fontweight='bold')\n",
        "plt.show()\n"
      ],
      "metadata": {
        "id": "pc6Zgv8wK6ID"
      },
      "execution_count": null,
      "outputs": []
    },
    {
      "cell_type": "markdown",
      "source": [
        "##### 1. Why did you pick the specific chart?"
      ],
      "metadata": {
        "id": "QPULk29yK6ID"
      }
    },
    {
      "cell_type": "markdown",
      "source": [
        "This chart reveals which batsmen are most frequently dismissed by being caught, an important indicator of batting style, risk-taking, and potentially areas for technical improvement.\n"
      ],
      "metadata": {
        "id": "z0NOQ0N3K6ID"
      }
    },
    {
      "cell_type": "markdown",
      "source": [
        "##### 2. What is/are the insight(s) found from the chart?"
      ],
      "metadata": {
        "id": "LgRm0ZrTK6ID"
      }
    },
    {
      "cell_type": "markdown",
      "source": [
        "1. SK Raina leads significantly with 101 dismissals by catches, suggesting an aggressive or high-risk style at the crease.\n",
        "\n",
        "2. Many top run-getters (Uthappa, Sharma, Gambhir) also feature that higher run making is often paired with more chances taken and thus higher caught out rates."
      ],
      "metadata": {
        "id": "9fSRj5tNK6ID"
      }
    },
    {
      "cell_type": "markdown",
      "source": [
        "#### Chart - 17"
      ],
      "metadata": {
        "id": "e9tK-ckzMgES"
      }
    },
    {
      "cell_type": "code",
      "source": [
        "# Chart - 17 visualization code\n",
        "\n",
        "# Filter retired dismissals\n",
        "retired_dismissals = merged[merged['dismissal_kind'].str.contains('retired', case=False, na=False)]\n",
        "\n",
        "# Count players who were retired\n",
        "retired_players = retired_dismissals['player_dismissed'].value_counts()\n",
        "\n",
        "# Plot\n",
        "if not retired_players.empty:\n",
        "    plt.figure(figsize=(8,5))\n",
        "    retired_players.plot(kind='bar', color='orange')\n",
        "    plt.title(\"Players Retired Hurt\")\n",
        "    plt.xlabel(\"Player\")\n",
        "    plt.ylabel(\"Number of Retired Dismissals\")\n",
        "    plt.xticks(rotation=45, ha='right')\n",
        "    plt.tight_layout()\n",
        "    for i, value in enumerate(retired_players):\n",
        "        plt.text(i, value, str(value), ha='center', va='bottom', fontsize=10, fontweight='bold')\n",
        "    plt.show()"
      ],
      "metadata": {
        "id": "Gc7IHnSTMgET"
      },
      "execution_count": null,
      "outputs": []
    },
    {
      "cell_type": "markdown",
      "source": [
        "##### 1. Why did you pick the specific chart?"
      ],
      "metadata": {
        "id": "ViN6qQxpMgET"
      }
    },
    {
      "cell_type": "markdown",
      "source": [
        "This chart was picked because it highlights the rare but impactful event of players retiring hurt, providing insights into player vulnerability and physical risk areas in the game."
      ],
      "metadata": {
        "id": "HS7sPuVbMgET"
      }
    },
    {
      "cell_type": "markdown",
      "source": [
        "##### 2. What is/are the insight(s) found from the chart?"
      ],
      "metadata": {
        "id": "vSIt3pgnMgET"
      }
    },
    {
      "cell_type": "markdown",
      "source": [
        "1. Harbhajan Singh and SR Tendulkar top the list which is higher than all other listed players who have only one such instance.\n",
        "\n",
        "2. Retired hurt dismissals affect both legendary and emerging players, indicating no clear link to playing role or experience but rather the unpredictable nature of injuries."
      ],
      "metadata": {
        "id": "_zvpcXeyMgET"
      }
    },
    {
      "cell_type": "markdown",
      "source": [
        "#### Chart - 18"
      ],
      "metadata": {
        "id": "X8-B77mWOWGH"
      }
    },
    {
      "cell_type": "code",
      "source": [
        "# Chart - 18 visualization code\n",
        "\n",
        "# Season with most runs\n",
        "season_runs = merged.groupby('season')['total_runs'].sum().sort_values(ascending=False)\n",
        "\n",
        "# Plot\n",
        "plt.figure(figsize=(10,6))\n",
        "season_runs.plot(kind='bar', color='purple')\n",
        "plt.title(\"Total Runs Scored per Season\", fontsize=14)\n",
        "plt.xlabel(\"Season\")\n",
        "plt.ylabel(\"Total Runs\")\n",
        "plt.xticks(rotation=45, ha='right')\n",
        "plt.tight_layout()\n",
        "for i, value in enumerate(season_runs):\n",
        "    plt.text(i, value + 200, str(value), ha='center', va='bottom', fontsize=10, fontweight='bold')\n",
        "\n",
        "plt.show()"
      ],
      "metadata": {
        "id": "o0POJNnSOWGH"
      },
      "execution_count": null,
      "outputs": []
    },
    {
      "cell_type": "markdown",
      "source": [
        "##### 1. Why did you pick the specific chart?"
      ],
      "metadata": {
        "id": "Tw_I8RS2OWGH"
      }
    },
    {
      "cell_type": "markdown",
      "source": [
        "This chart was chosen because it provides a season wise breakdown of run scoring trends, essential for understanding the evolution of the tournament’s scoring dynamics and batting dominance.\n"
      ],
      "metadata": {
        "id": "mJ_wDencOWGI"
      }
    },
    {
      "cell_type": "markdown",
      "source": [
        "##### 2. What is/are the insight(s) found from the chart?"
      ],
      "metadata": {
        "id": "QmB5SBkNOWGI"
      }
    },
    {
      "cell_type": "markdown",
      "source": [
        "1. The highest total runs were scored in the 2013 (22,602) and 2012 (22,453) seasons, showing those as exceptionally high-scoring years.\n",
        "\n",
        "2. There is a general upward trend in run scoring from 2008 to 2013, reflecting evolving strategies or better batting."
      ],
      "metadata": {
        "id": "PxhlC0C0OWGI"
      }
    },
    {
      "cell_type": "markdown",
      "source": [
        "#### Chart - 19"
      ],
      "metadata": {
        "id": "0x_E55EgOjbr"
      }
    },
    {
      "cell_type": "code",
      "source": [
        "# Chart - 19 visualization code\n",
        "\n",
        "# Season with most wickets\n",
        "season_wickets = merged.groupby('season')['player_dismissed'].count().sort_values(ascending=False)\n",
        "\n",
        "# Plot\n",
        "plt.figure(figsize=(10,6))\n",
        "season_wickets.plot(kind='bar', color='cyan')\n",
        "plt.title(\"Total Dismissals per Season\", fontsize=14)\n",
        "plt.xlabel(\"Season\")\n",
        "plt.ylabel(\"Total Dismissals\")\n",
        "plt.xticks(rotation=45, ha='right')\n",
        "plt.tight_layout()\n",
        "for i, value in enumerate(season_wickets):\n",
        "    plt.text(i, value, str(value), ha='center', va='bottom', fontsize=10, fontweight='bold')\n",
        "plt.show()"
      ],
      "metadata": {
        "id": "tmSatdt6Ojbs"
      },
      "execution_count": null,
      "outputs": []
    },
    {
      "cell_type": "markdown",
      "source": [
        "##### 1. Why did you pick the specific chart?"
      ],
      "metadata": {
        "id": "SstnzE5wOjbs"
      }
    },
    {
      "cell_type": "markdown",
      "source": [
        "This chart was selected to illustrate trends in the number of dismissals per season, which offers a lens into the balance between bat and ball, and the effectiveness of bowlers and fielders over time.\n"
      ],
      "metadata": {
        "id": "PuarpgPnOjbs"
      }
    },
    {
      "cell_type": "markdown",
      "source": [
        "##### 2. What is/are the insight(s) found from the chart?"
      ],
      "metadata": {
        "id": "OBP_bUr8Ojbs"
      }
    },
    {
      "cell_type": "markdown",
      "source": [
        "1. The 2013 season saw 912 dismissals, the most across all seasons, suggesting either more matches or more aggressive play styles.\n",
        "\n",
        "2. Most seasons after 2010 show a relatively stable number of dismissals (~660–720), reflecting the establishment of a mature competition structure."
      ],
      "metadata": {
        "id": "KaehHpQuOjbs"
      }
    },
    {
      "cell_type": "markdown",
      "source": [
        "#### Chart - 20"
      ],
      "metadata": {
        "id": "xB7URwzOVgyj"
      }
    },
    {
      "cell_type": "code",
      "source": [
        "# Chart - 20 visualization code\n",
        "\n",
        "# Combine umpire1 and umpire2 into a single series\n",
        "umpires = pd.concat([unique_matches['umpire1'], unique_matches['umpire2']]).value_counts().sort_values(ascending=False)\n",
        "\n",
        "# Plot\n",
        "plt.figure(figsize=(10,6))\n",
        "umpires.head(10).plot(kind='bar', color='brown')\n",
        "plt.title(\"Top 10 Umpires by Matches Officiated\", fontsize=14)\n",
        "plt.xlabel(\"Umpire\")\n",
        "plt.ylabel(\"Number of Matches\")\n",
        "plt.xticks(rotation=45, ha='right')\n",
        "plt.tight_layout()\n",
        "for i, value in enumerate(umpires.head(10)):\n",
        "    plt.text(i, value, str(value), ha='center', va='bottom', fontsize=10, fontweight='bold')\n",
        "plt.show()"
      ],
      "metadata": {
        "id": "wmebOFBKVgyk"
      },
      "execution_count": null,
      "outputs": []
    },
    {
      "cell_type": "markdown",
      "source": [
        "##### 1. Why did you pick the specific chart?"
      ],
      "metadata": {
        "id": "ky1-nYCHNvN1"
      }
    },
    {
      "cell_type": "markdown",
      "source": [
        "This chart was chosen because umpire performance, experience, and consistency importantly affect match quality, making it valuable to identify the most frequently selected umpires.\n"
      ],
      "metadata": {
        "id": "CaOurZulNvN2"
      }
    },
    {
      "cell_type": "markdown",
      "source": [
        "##### 2. What is/are the insight(s) found from the chart?"
      ],
      "metadata": {
        "id": "hhB8ViYMN2dW"
      }
    },
    {
      "cell_type": "markdown",
      "source": [
        "1. HDPK Dharmasena and S Ravi are the Most Experienced and have officiated over 85 matches each.\n",
        "\n",
        "2. There is a notable decrease to the third place (AK Chaudhary at 58 matches), highlighting a significant experience gap between the leading pair and the rest."
      ],
      "metadata": {
        "id": "DucgRDtHN2dW"
      }
    },
    {
      "cell_type": "markdown",
      "source": [
        "#### Chart - 21"
      ],
      "metadata": {
        "id": "5I6dcOXpaf8P"
      }
    },
    {
      "cell_type": "code",
      "source": [
        "# Chart - 21 visualization code\n",
        "\n",
        "# Most runs in 1st innings in a season\n",
        "first_innings_runs = merged[merged['inning'] == 1].groupby('season')['total_runs'].sum().sort_values(ascending=False)\n",
        "\n",
        "#plot\n",
        "plt.figure(figsize=(10,6))\n",
        "first_innings_runs.plot(kind='bar', color='green')\n",
        "plt.title(\"Total Runs in 1st Innings per Season\", fontsize=14)\n",
        "plt.xlabel(\"Season\")\n",
        "plt.ylabel(\"Total Runs in 1st Innings\")\n",
        "plt.xticks(rotation=45, ha='right')\n",
        "plt.tight_layout()\n",
        "for i, value in enumerate(first_innings_runs):\n",
        "    plt.text(i, value, str(value), ha='center', va='bottom', fontsize=10, fontweight='bold')\n",
        "plt.show()"
      ],
      "metadata": {
        "id": "7TJMZ7sSaf8P"
      },
      "execution_count": null,
      "outputs": []
    },
    {
      "cell_type": "markdown",
      "source": [
        "##### 1. Why did you pick the specific chart?"
      ],
      "metadata": {
        "id": "lK7P79wdaf8P"
      }
    },
    {
      "cell_type": "markdown",
      "source": [
        "This chart was picked because it gives an overview of how scoring in the first innings has evolved across seasons, helping analysts understand batting trends and conditions for teams setting targets.\n"
      ],
      "metadata": {
        "id": "38V1AF_gaf8Q"
      }
    },
    {
      "cell_type": "markdown",
      "source": [
        "##### 2. What is/are the insight(s) found from the chart?"
      ],
      "metadata": {
        "id": "rwzRTsctaf8Q"
      }
    },
    {
      "cell_type": "markdown",
      "source": [
        "1. he highest total runs in the first innings occurred in 2013 (11,848) and 2012 (11,658).\n",
        "\n",
        "2. Between 2011–2017 (excluding 2014 and 2010), first innings runs consistently remained above 9,700."
      ],
      "metadata": {
        "id": "PKIiERK-af8Q"
      }
    },
    {
      "cell_type": "markdown",
      "source": [
        "#### Chart - 22"
      ],
      "metadata": {
        "id": "5klL4QPoW0Gl"
      }
    },
    {
      "cell_type": "code",
      "source": [
        "# Chart - 22 visualization code\n",
        "\n",
        "# Most runs in 2nd innings in a season\n",
        "second_innings_runs = merged[merged['inning'] == 2].groupby('season')['total_runs'].sum().sort_values(ascending=False)\n",
        "\n",
        "# Plot\n",
        "plt.figure(figsize=(10,6))\n",
        "second_innings_runs.plot(kind='bar', color='orange')\n",
        "plt.title(\"Total Runs in 2nd Innings per Season\", fontsize=14)\n",
        "plt.xlabel(\"Season\")\n",
        "plt.ylabel(\"Total Runs in 2nd Innings\")\n",
        "plt.xticks(rotation=45, ha='right')\n",
        "plt.tight_layout()\n",
        "for i, value in enumerate(second_innings_runs):\n",
        "    plt.text(i, value, str(value), ha='center', va='bottom', fontsize=10, fontweight='bold')\n",
        "plt.show()"
      ],
      "metadata": {
        "id": "BIAgMtgzW0Gm"
      },
      "execution_count": null,
      "outputs": []
    },
    {
      "cell_type": "markdown",
      "source": [
        "##### 1. Why did you pick the specific chart?"
      ],
      "metadata": {
        "id": "yoCC2hFNW0Gm"
      }
    },
    {
      "cell_type": "markdown",
      "source": [
        "This chart was chosen because it highlights trends in teams performance while chasing, essential for understanding evolving strategies and pressure scenarios in the second innings.\n"
      ],
      "metadata": {
        "id": "AuvSU77oW0Gm"
      }
    },
    {
      "cell_type": "markdown",
      "source": [
        "##### 2. What is/are the insight(s) found from the chart?"
      ],
      "metadata": {
        "id": "CFka_kFHW0Gm"
      }
    },
    {
      "cell_type": "markdown",
      "source": [
        "1. Seasons 2012 (10,795) and 2013 (10,693) had the most second-innings runs, aligning with the overall high scoring nature of those years.\n",
        "\n",
        "2. There is a visible drop after 2013, suggesting possible improvements in bowling under pressure or changing pitch dynamics in later seasons."
      ],
      "metadata": {
        "id": "8mVbH2TuW0Gm"
      }
    },
    {
      "cell_type": "markdown",
      "source": [
        "#### Chart - 23"
      ],
      "metadata": {
        "id": "hk6oGxfAXaNd"
      }
    },
    {
      "cell_type": "code",
      "source": [
        "# Chart - 23 visualization code\n",
        "\n",
        "# Filter only matches with normal result\n",
        "normal_matches = unique_matches[unique_matches['result'] == 'normal']\n",
        "\n",
        "# Count matches per season\n",
        "normal_counts = normal_matches['season'].value_counts().sort_values(ascending=False)\n",
        "\n",
        "# Plot\n",
        "plt.figure(figsize=(10,6))\n",
        "normal_counts.plot(kind='bar', color='teal')\n",
        "plt.title(\"Normal Result Matches per Season\", fontsize=14)\n",
        "plt.xlabel(\"Season\")\n",
        "plt.ylabel(\"Number of Normal Result Matches\")\n",
        "plt.xticks(rotation=45, ha='right')\n",
        "\n",
        "# Add labels\n",
        "for i, value in enumerate(normal_counts):\n",
        "    plt.text(i, value + 0.5, str(value), ha='center', fontsize=10, fontweight='bold')\n",
        "\n",
        "plt.tight_layout()\n",
        "plt.show()"
      ],
      "metadata": {
        "id": "UwHiUyjuXaNe"
      },
      "execution_count": null,
      "outputs": []
    },
    {
      "cell_type": "markdown",
      "source": [
        "##### 1. Why did you pick the specific chart?"
      ],
      "metadata": {
        "id": "AsmowTjSXaNe"
      }
    },
    {
      "cell_type": "markdown",
      "source": [
        "This chart was selected because it visualizes the reliability of the league in delivering undisturbed matches, which matters to fans, broadcasters, and event planners.\n"
      ],
      "metadata": {
        "id": "rhrs1mHdXaNe"
      }
    },
    {
      "cell_type": "markdown",
      "source": [
        "##### 2. What is/are the insight(s) found from the chart?"
      ],
      "metadata": {
        "id": "Hc4P-0ctXaNe"
      }
    },
    {
      "cell_type": "markdown",
      "source": [
        "1. Most seasons have 56–74 matches ending with normal results, with 2012 and 2013 at the peak (74 each).\n",
        "\n",
        "2. Occasional dips (e.g., 56 in 2015 and 2009) could be analyzed further for causes, such as weather disruptions or scheduling tweaks."
      ],
      "metadata": {
        "id": "vXZaAv8EXaNe"
      }
    },
    {
      "cell_type": "markdown",
      "source": [
        "#### Chart - 24"
      ],
      "metadata": {
        "id": "htxX1CyvaxKg"
      }
    },
    {
      "cell_type": "code",
      "source": [
        "# Chart - 24 visualization code\n",
        "# Calculate runs scored by each batsman in each match\n",
        "player_match_runs = deliveries.groupby(['match_id','batsman'])['batsman_runs'].sum().reset_index()\n",
        "\n",
        "# Get Top 10 highest scores\n",
        "top10_innings = player_match_runs.sort_values('batsman_runs', ascending=False).head(10)\n",
        "\n",
        "# Create a unique label: Player + Match ID\n",
        "top10_innings['label'] = top10_innings['batsman'] + \" (Match \" + top10_innings['match_id'].astype(str) + \")\"\n",
        "\n",
        "# Plot\n",
        "plt.figure(figsize=(10,6))\n",
        "bars = plt.bar(top10_innings['label'], top10_innings['batsman_runs'], color='crimson')\n",
        "\n",
        "plt.title(\"Top 10 Highest Individual Scores in a Single Match\", fontsize=14)\n",
        "plt.xlabel(\"Player (with Match ID)\")\n",
        "plt.ylabel(\"Runs\")\n",
        "plt.xticks(rotation=45, ha='right')\n",
        "\n",
        "# Annotate values on top of bars\n",
        "for bar in bars:\n",
        "    plt.text(bar.get_x() + bar.get_width()/2,\n",
        "             bar.get_height(),\n",
        "             str(bar.get_height()),\n",
        "             ha='center', va='bottom', fontsize=10, fontweight='bold')\n",
        "\n",
        "plt.tight_layout()\n",
        "plt.show()\n",
        "\n"
      ],
      "metadata": {
        "id": "mXHAXhvoaxKh"
      },
      "execution_count": null,
      "outputs": []
    },
    {
      "cell_type": "markdown",
      "source": [
        "##### 1. Why did you pick the specific chart?"
      ],
      "metadata": {
        "id": "o4e1cRBjaxKh"
      }
    },
    {
      "cell_type": "markdown",
      "source": [
        "This chart was picked because individual big scores are standout performances that shape the narrative and excitement of the league, often drawing fans’ attention and impacting match outcomes."
      ],
      "metadata": {
        "id": "LEVjO8JSaxKh"
      }
    },
    {
      "cell_type": "markdown",
      "source": [
        "##### 2. What is/are the insight(s) found from the chart?"
      ],
      "metadata": {
        "id": "qqYIJugqaxKh"
      }
    },
    {
      "cell_type": "markdown",
      "source": [
        "1. CH Gayle’s 175 is by far the highest individual score, an outlier that sets a league benchmark for explosive batting.\n",
        "\n",
        "2. The chart features multiple players like de Villiers, Sehwag, Warner with large scores featuring exceptional batting."
      ],
      "metadata": {
        "id": "amQEVlc_axKh"
      }
    },
    {
      "cell_type": "markdown",
      "source": [
        "#### Chart - 25"
      ],
      "metadata": {
        "id": "DHvuoyn8dpAs"
      }
    },
    {
      "cell_type": "code",
      "source": [
        "# Chart - 25 visualization code\n",
        "# Filter only valid wickets (exclude run outs, retired hurt, etc.)\n",
        "valid_wickets = merged[merged['dismissal_kind'].notnull() & (merged['dismissal_kind'] != 'run out')]\n",
        "\n",
        "# Count wickets per bowler per match\n",
        "bowler_match_wickets = valid_wickets.groupby(['match_id','bowler'])['dismissal_kind'].count().reset_index()\n",
        "bowler_match_wickets.rename(columns={'dismissal_kind':'wickets'}, inplace=True)\n",
        "\n",
        "# Get Top 10 bowling performances\n",
        "top10_bowling = bowler_match_wickets.sort_values('wickets', ascending=False).head(10)\n",
        "\n",
        "# Plot\n",
        "plt.figure(figsize=(10,6))\n",
        "bars = plt.bar(top10_bowling['bowler'], top10_bowling['wickets'], color='navy')\n",
        "\n",
        "plt.title(\"Top 10 Bowling Performances (Most Wickets in a Match)\", fontsize=14)\n",
        "plt.xlabel(\"Bowler (with Match ID)\")\n",
        "plt.ylabel(\"Wickets\")\n",
        "plt.xticks(rotation=45, ha='right')\n",
        "for bar in bars:\n",
        "    plt.text(bar.get_x() + bar.get_width()/2, bar.get_height(), str(bar.get_height()), ha='center', va='bottom', fontsize=10, fontweight='bold')\n",
        "\n",
        "plt.tight_layout()\n",
        "plt.show()\n"
      ],
      "metadata": {
        "id": "lfueiVuwdpAt"
      },
      "execution_count": null,
      "outputs": []
    },
    {
      "cell_type": "markdown",
      "source": [
        "##### 1. Why did you pick the specific chart?"
      ],
      "metadata": {
        "id": "PDiMw36pdpAu"
      }
    },
    {
      "cell_type": "markdown",
      "source": [
        "This chart was chosen because it highlights the top individual bowling performances—specifically, the most wickets taken in a single match which is a key metric for evaluating game changing impacts and identifying standout bowlers in the league.\n"
      ],
      "metadata": {
        "id": "wNbeD0W7dpAu"
      }
    },
    {
      "cell_type": "markdown",
      "source": [
        "##### 2. What is/are the insight(s) found from the chart?"
      ],
      "metadata": {
        "id": "EQYGYgS-dpAu"
      }
    },
    {
      "cell_type": "markdown",
      "source": [
        "1. Adam Zampa and Sohail Tanvir are the only bowlers to have taken 6 wickets in a match, distinguishing themselves from others who have a maximum of 5 wickets in their best performances.\n",
        "\n",
        "2. Eight other bowlers (Kumble, Patel, Sharma, Harbhajan Singh, Tye, Unadkat, Faulkner, Narine) each have five wickets in a match, showcasing the high caliber and competitiveness among top bowlers in the tournament.\n"
      ],
      "metadata": {
        "id": "bBpw0AyBdpAu"
      }
    },
    {
      "cell_type": "markdown",
      "source": [
        "## **5. Solution to Business Objective**"
      ],
      "metadata": {
        "id": "JcMwzZxoAimU"
      }
    },
    {
      "cell_type": "markdown",
      "source": [
        "#### What do you suggest the client to achieve Business Objective ?\n",
        "Explain Briefly."
      ],
      "metadata": {
        "id": "8G2x9gOozGDZ"
      }
    },
    {
      "cell_type": "markdown",
      "source": [
        "Based on the above analysis, I suggest the client focus on leveraging the star players and high impact performances to strengthen fan engagement and brand partnerships, as these create strong emotional connections and increase viewership. Investing in targeted marketing campaigns around top performers like CH Gayle and bowlers with standout match winning spells can elevate merchandise sales, sponsorship value, and ticket revenues. At the same time, improving team strategies to reduce extras and optimize defensive performances will increase match-winning consistency, further building a winning reputation that attracts corporate sponsorships. Finally, expanding the league's presence by highlighting record breaking seasons and individual achievements can create new markets and revenue streams, balancing entertainment with strong sports management to maximize long-term business success."
      ],
      "metadata": {
        "id": "pASKb0qOza21"
      }
    },
    {
      "cell_type": "markdown",
      "source": [
        "# **Conclusion**"
      ],
      "metadata": {
        "id": "gCX9965dhzqZ"
      }
    },
    {
      "cell_type": "markdown",
      "source": [
        "Based on the detailed analysis and insights derived from the data, I conclude that the project has effectively highlighted the key performance drivers and trends in the league that are vital for business growth. Understanding top player performances, match outcomes, and season wise statistics equips us with actionable intelligence to optimize fan engagement, sponsorship leverage, and team strategy. It is clear that data driven decision making, focused on showcasing star players and improving match quality, will unlock new revenue streams and strengthen brand loyalty. Overall, this comprehensive analysis positions us well to craft targeted business strategies that align sporting excellence with commercial success for sustained growth."
      ],
      "metadata": {
        "id": "Fjb1IsQkh3yE"
      }
    },
    {
      "cell_type": "markdown",
      "source": [
        "### ***Hurrah! You have successfully completed your EDA Capstone Project !!!***"
      ],
      "metadata": {
        "id": "gIfDvo9L0UH2"
      }
    }
  ]
}